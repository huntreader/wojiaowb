{
 "cells": [
  {
   "cell_type": "code",
   "execution_count": 1,
   "id": "initial_id",
   "metadata": {
    "collapsed": true,
    "ExecuteTime": {
     "end_time": "2023-11-13T13:47:46.134477600Z",
     "start_time": "2023-11-13T13:47:45.461291600Z"
    }
   },
   "outputs": [],
   "source": [
    "import numpy as np\n",
    "import matplotlib.pyplot as plt"
   ]
  },
  {
   "cell_type": "code",
   "execution_count": 2,
   "id": "eb3487c2f5fd20f3",
   "metadata": {
    "collapsed": false,
    "ExecuteTime": {
     "end_time": "2023-11-13T13:47:46.145258Z",
     "start_time": "2023-11-13T13:47:46.138840800Z"
    }
   },
   "outputs": [],
   "source": [
    "#path1= 'horseColicTraining.txt '\n",
    "#path2 = 'horseColicTest.txt'\n",
    "#data1=np.loadtxt(path1)\n",
    "#data2=np.loadtxt(path2)\n",
    "##提取数据和标签\n",
    "#train_data  = data1[:, :-1]\n",
    "#train_label = data1[:, -1]\n",
    "#test_data = data2[: , :-1]\n",
    "#test_label = data1[:, -1]\n",
    "# 添加偏置项到训练数据中（在特征前添加一列全为1的列）\n",
    "#train_data = np.c_[np.ones((train_data.shape[0], 1)), train_data]\n",
    "#test_data = np.c_[np.ones((test_data.shape[0], 1)), test_data]"
   ]
  },
  {
   "cell_type": "code",
   "execution_count": 3,
   "id": "d6babe7fcfdc9c5e",
   "metadata": {
    "collapsed": false,
    "ExecuteTime": {
     "end_time": "2023-11-13T13:47:46.182721900Z",
     "start_time": "2023-11-13T13:47:46.148289800Z"
    }
   },
   "outputs": [],
   "source": [
    "# 读取训练数据\n",
    "with open('horseColicTraining.txt', 'r') as file:\n",
    "    content = file.readlines()\n",
    "\n",
    "train_array = np.array([line.strip().split() for line in content], dtype=float)\n",
    "train_data = train_array[:, :-1]\n",
    "train_label = train_array[:, -1]\n",
    "\n",
    "# 在矩阵右侧添加一列全为1的列\n",
    "train_data = np.hstack((train_data, np.ones((train_data.shape[0], 1))))\n",
    "\n",
    "# 读取测试数据\n",
    "with open('horseColicTest.txt', 'r') as file:\n",
    "    content = file.readlines()\n",
    "\n",
    "test_array = np.array([line.strip().split() for line in content], dtype=float)\n",
    "test_data = test_array[:, :-1]\n",
    "test_label = test_array[:, -1]\n",
    "\n",
    "# 在测试数据中添加一列全为1的列\n",
    "test_data = np.hstack((test_data, np.ones((test_data.shape[0], 1))))"
   ]
  },
  {
   "cell_type": "code",
   "execution_count": 4,
   "id": "478aa8758737fa62",
   "metadata": {
    "collapsed": false,
    "ExecuteTime": {
     "end_time": "2023-11-13T13:47:46.182996Z",
     "start_time": "2023-11-13T13:47:46.175996500Z"
    }
   },
   "outputs": [],
   "source": [
    "plt.rcParams['font.sans-serif'] = ['SimHei']  #用来正常显示中文标签\n",
    "plt.rcParams['axes.unicode_minus'] = False  #用来正常显示负号"
   ]
  },
  {
   "cell_type": "code",
   "execution_count": 5,
   "id": "157322cf10d814ef",
   "metadata": {
    "collapsed": false,
    "ExecuteTime": {
     "end_time": "2023-11-13T13:47:46.193439100Z",
     "start_time": "2023-11-13T13:47:46.184721200Z"
    }
   },
   "outputs": [],
   "source": [
    "# 定义 sigmoid 函数\n",
    "def sigmoid(x):\n",
    "    return 1 / (1 + np.exp(-x))"
   ]
  },
  {
   "cell_type": "code",
   "execution_count": 6,
   "id": "2289225e01ae60f7",
   "metadata": {
    "collapsed": false,
    "ExecuteTime": {
     "end_time": "2023-11-13T13:47:46.201617700Z",
     "start_time": "2023-11-13T13:47:46.191624200Z"
    }
   },
   "outputs": [],
   "source": [
    "# 计算准确率\n",
    "def calculate_accuracy(predictions, baseline_labels):\n",
    "    correct_predictions = np.sum(predictions == baseline_labels)\n",
    "    total_predictions = len(baseline_labels)\n",
    "    accuracy = correct_predictions / total_predictions\n",
    "    return accuracy"
   ]
  },
  {
   "cell_type": "code",
   "execution_count": 7,
   "id": "fbff23fdc829e1ec",
   "metadata": {
    "collapsed": false,
    "ExecuteTime": {
     "end_time": "2023-11-13T13:47:48.203166800Z",
     "start_time": "2023-11-13T13:47:46.203618200Z"
    }
   },
   "outputs": [
    {
     "name": "stdout",
     "output_type": "stream",
     "text": [
      "Accuracy: 77.61194029850746%\n"
     ]
    }
   ],
   "source": [
    "#梯度下降\n",
    "weights = np.zeros(train_data.shape[1])\n",
    "# 利用梯度下降进行求解\n",
    "rate = 0.01  # 学习率\n",
    "num_iterations = 100000  # 迭代次数\n",
    "total = len(train_data) ** 2\n",
    "for i in range(num_iterations):\n",
    "    predictions = sigmoid(np.matmul(train_data,weights))\n",
    "    gradient = np.matmul(train_data.T, (predictions - train_label)) / total\n",
    "    weights -= rate * gradient\n",
    "    #predictions = sigmoid(np.matmul(train_data, weights))\n",
    "    #error = predictions - train_label\n",
    "    #gradient = np.matmul(train_data.T , error)/total\n",
    "    #weights += gradient * rate\n",
    "    #w_gradient = np.dot(predictions ,(1 - predictions))\n",
    "    # 计算梯度并更新权重\n",
    "    #gradient = 2*np.dot(train_data.T, np.dot( error ,w_gradient)) / len(train_data)\n",
    "    #weights += rate * gradient\n",
    " \n",
    "# 在测试集上进行预测\n",
    "predictions = sigmoid(np.matmul(weights, test_data.T))\n",
    "\n",
    "# 将概率值转换为二分类标签（大于等于0.5的为1，小于0.5的为0）\n",
    "predicted_labels = (predictions > 0.5).astype(int)\n",
    "# 计算准确率\n",
    "accuracy = calculate_accuracy(predicted_labels, test_label)\n",
    "print(f'Accuracy: {accuracy * 100}%')"
   ]
  },
  {
   "cell_type": "code",
   "execution_count": 8,
   "id": "993bc727a6b34199",
   "metadata": {
    "collapsed": false,
    "ExecuteTime": {
     "end_time": "2023-11-13T13:47:48.290749500Z",
     "start_time": "2023-11-13T13:47:48.200002Z"
    }
   },
   "outputs": [
    {
     "name": "stdout",
     "output_type": "stream",
     "text": [
      "Accuracy: 71.64179104477611%\n"
     ]
    }
   ],
   "source": [
    "\n",
    "# 牛顿法更新权重\n",
    "lr = 1.0\n",
    "num_iterations = 100\n",
    "for _ in range(num_iterations):\n",
    "    predictions = sigmoid(np.dot(train_data, weights))\n",
    "    error = train_label - predictions\n",
    "    gradient = np.dot(train_data.T, error)\n",
    "    hessian = np.dot(train_data.T, np.dot(np.diag(predictions), np.dot(np.diag(1 - predictions), train_data)))\n",
    "    weights += lr * np.linalg.inv(hessian).dot(gradient)\n",
    "\n",
    "# 在测试集上进行预测\n",
    "predictions = sigmoid(np.dot(test_data, weights))\n",
    "\n",
    "# 将概率值转换为二分类标签（大于等于0.5的为1，小于0.5的为0）\n",
    "predicted_labels = (predictions >= 0.5).astype(int)\n",
    "\n",
    "# 计算准确度\n",
    "accuracy = np.mean(predicted_labels == test_label)\n",
    "print(f'Accuracy: {accuracy * 100}%')"
   ]
  },
  {
   "cell_type": "code",
   "execution_count": 9,
   "id": "5f11787b0ccafd9b",
   "metadata": {
    "collapsed": false,
    "ExecuteTime": {
     "end_time": "2023-11-13T13:47:48.574287Z",
     "start_time": "2023-11-13T13:47:48.282746700Z"
    }
   },
   "outputs": [
    {
     "data": {
      "text/plain": "<Figure size 1000x500 with 1 Axes>",
      "image/png": "[encoded data removed]"
     },
     "metadata": {},
     "output_type": "display_data"
    }
   ],
   "source": [
    "# 计算内积并通过sigmoid函数映射到[0, 1]区间\n",
    "train_predictions = 1 / (1 + np.exp(-np.dot(train_data, weights)))\n",
    "test_predictions = 1 / (1 + np.exp(-np.dot(test_data, weights)))\n",
    "\n",
    "# 画出sigmoid函数的曲线\n",
    "x = np.linspace(-10, 10, 1000)\n",
    "sigmoid_curve = 1 / (1 + np.exp(-x))\n",
    "\n",
    "\n",
    "# 画出训练数据和测试数据在sigmoid函数上的散点图，调整点的大小和透明度\n",
    "plt.figure(figsize=(10, 5))\n",
    "plt.plot(x, sigmoid_curve, label='Sigmoid Function', color='blue')\n",
    "plt.scatter(np.dot(train_data, weights), train_predictions, label='Train Data', color='red', s=10, alpha=0.5)\n",
    "plt.scatter(np.dot(test_data, weights), test_predictions, label='Test Data', color='green', s=10, alpha=0.5)\n",
    "plt.xlabel('Weighted Sum')\n",
    "plt.ylabel('Sigmoid Output')\n",
    "plt.legend()\n",
    "plt.grid(True)\n",
    "plt.show()"
   ]
  },
  {
   "cell_type": "markdown",
   "id": "21430bee1f597987",
   "metadata": {
    "collapsed": false
   },
   "source": []
  }
 ],
 "metadata": {
  "kernelspec": {
   "display_name": "Python 3",
   "language": "python",
   "name": "python3"
  },
  "language_info": {
   "codemirror_mode": {
    "name": "ipython",
    "version": 3
   },
   "file_extension": ".py",
   "mimetype": "text/x-python",
   "name": "python",
   "nbconvert_exporter": "python",
   "pygments_lexer": "ipython3",
   "version": "3.11.4"
  }
 },
 "nbformat": 4,
 "nbformat_minor": 5
}
